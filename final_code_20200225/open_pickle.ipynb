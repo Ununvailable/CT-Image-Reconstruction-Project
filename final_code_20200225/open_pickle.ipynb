{
 "cells": [
  {
   "cell_type": "code",
   "execution_count": null,
   "metadata": {},
   "outputs": [],
   "source": [
    "import pickle\n",
    "import os\n",
    "import cv2\n",
    "from PIL import Image \n",
    "import matplotlib.pyplot as plt\n",
    "param_nz = 256\n",
    "# reload a file to a variable\n",
    "with open('data/20200225_AXI_final_code/results/volume.pickle', 'rb') as f:\n",
    "    vols_sum =pickle.load(f)\n",
    "for i in range(param_nz):\n",
    "    plt.imshow(vols_sum[i], cmap='gray')\n",
    "    plt.savefig('%6d.png'%(i))"
   ]
  },
  {
   "cell_type": "code",
   "execution_count": null,
   "metadata": {},
   "outputs": [],
   "source": []
  }
 ],
 "metadata": {
  "kernelspec": {
   "display_name": "Python 3",
   "language": "python",
   "name": "python3"
  },
  "language_info": {
   "codemirror_mode": {
    "name": "ipython",
    "version": 3
   },
   "file_extension": ".py",
   "mimetype": "text/x-python",
   "name": "python",
   "nbconvert_exporter": "python",
   "pygments_lexer": "ipython3",
   "version": "3.6.7"
  }
 },
 "nbformat": 4,
 "nbformat_minor": 4
}
